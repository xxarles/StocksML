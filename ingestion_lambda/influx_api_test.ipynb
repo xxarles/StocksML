{
 "cells": [
  {
   "cell_type": "code",
   "execution_count": 59,
   "metadata": {},
   "outputs": [
    {
     "name": "stdout",
     "output_type": "stream",
     "text": [
      "{\n",
      "  \"ticker\": \"AAPL\",\n",
      "  \"queryCount\": 847,\n",
      "  \"resultsCount\": 16,\n",
      "  \"adjusted\": true,\n",
      "  \"results\": [\n",
      "    {\n",
      "      \"v\": 78491,\n",
      "      \"vw\": 190.0364,\n",
      "      \"o\": 191.52,\n",
      "      \"c\": 189.95,\n",
      "      \"h\": 191.52,\n",
      "      \"l\": 189.8,\n",
      "      \"t\": 1704186000000,\n",
      "      \"n\": 2918\n",
      "    },\n",
      "    {\n",
      "      \"v\": 29855,\n",
      "      \"vw\": 190.002,\n",
      "      \"o\": 190,\n",
      "      \"c\": 189.76,\n",
      "      \"h\": 190.24,\n",
      "      \"l\": 189.7,\n",
      "      \"t\": 1704189600000,\n",
      "      \"n\": 1305\n",
      "    },\n",
      "    {\n",
      "      \"v\": 121577,\n",
      "      \"vw\": 189.2501,\n",
      "      \"o\": 189.68,\n",
      "      \"c\": 188.94,\n",
      "      \"h\": 189.68,\n",
      "      \"l\": 188.8,\n",
      "      \"t\": 1704193200000,\n",
      "      \"n\": 3305\n",
      "    },\n",
      "    {\n",
      "      \"v\": 174909,\n",
      "      \"vw\": 189.0329,\n",
      "      \"o\": 189.02,\n",
      "      \"c\": 188.4,\n",
      "      \"h\": 189.65,\n",
      "      \"l\": 188.4,\n",
      "      \"t\": 1704196800000,\n",
      "      \"n\": 4993\n",
      "    },\n",
      "    {\n",
      "      \"v\": 555948,\n",
      "      \"vw\": 188.4356,\n",
      "      \"o\": 189.03,\n",
      "      \"c\": 188.1,\n",
      "      \"h\": 192.53,\n",
      "      \"l\": 187.78,\n",
      "      \"t\": 1704200400000,\n",
      "      \"n\": 16181\n",
      "    },\n",
      "    {\n",
      "      \"v\": 15393752.0,\n",
      "      \"vw\": 187.3264,\n",
      "      \"o\": 188.1,\n",
      "      \"c\": 186.52,\n",
      "      \"h\": 188.54,\n",
      "      \"l\": 186.01,\n",
      "      \"t\": 1704204000000,\n",
      "      \"n\": 185406\n",
      "    },\n",
      "    {\n",
      "      \"v\": 9900793.0,\n",
      "      \"vw\": 186.0721,\n",
      "      \"o\": 186.52,\n",
      "      \"c\": 185.89,\n",
      "      \"h\": 186.97,\n",
      "      \"l\": 185.1843,\n",
      "      \"t\": 1704207600000,\n",
      "      \"n\": 293954\n",
      "    },\n",
      "    {\n",
      "      \"v\": 7086716.0,\n",
      "      \"vw\": 186.6913,\n",
      "      \"o\": 185.88,\n",
      "      \"c\": 186.7443,\n",
      "      \"h\": 187.35,\n",
      "      \"l\": 185.87,\n",
      "      \"t\": 1704211200000,\n",
      "      \"n\": 102781\n",
      "    },\n",
      "    {\n",
      "      \"v\": 5834968.0,\n",
      "      \"vw\": 186.6302,\n",
      "      \"o\": 186.75,\n",
      "      \"c\": 185.878,\n",
      "      \"h\": 187.04,\n",
      "      \"l\": 185.8401,\n",
      "      \"t\": 1704214800000,\n",
      "      \"n\": 74775\n",
      "    },\n",
      "    {\n",
      "      \"v\": 6236575.0,\n",
      "      \"vw\": 185.3478,\n",
      "      \"o\": 185.885,\n",
      "      \"c\": 184.9083,\n",
      "      \"h\": 185.9576,\n",
      "      \"l\": 184.745,\n",
      "      \"t\": 1704218400000,\n",
      "      \"n\": 84951\n",
      "    },\n",
      "    {\n",
      "      \"v\": 6678217.0,\n",
      "      \"vw\": 184.4942,\n",
      "      \"o\": 184.9025,\n",
      "      \"c\": 184.05,\n",
      "      \"h\": 184.98,\n",
      "      \"l\": 184.01,\n",
      "      \"t\": 1704222000000,\n",
      "      \"n\": 82300\n",
      "    },\n",
      "    {\n",
      "      \"v\": 13963235.0,\n",
      "      \"vw\": 184.7806,\n",
      "      \"o\": 184.045,\n",
      "      \"c\": 185.525,\n",
      "      \"h\": 185.64,\n",
      "      \"l\": 183.885,\n",
      "      \"t\": 1704225600000,\n",
      "      \"n\": 141512\n",
      "    },\n",
      "    {\n",
      "      \"v\": 1832315.0,\n",
      "      \"vw\": 185.6326,\n",
      "      \"o\": 185.59,\n",
      "      \"c\": 185.43,\n",
      "      \"h\": 185.93,\n",
      "      \"l\": 185.42,\n",
      "      \"t\": 1704229200000,\n",
      "      \"n\": 5636\n",
      "    },\n",
      "    {\n",
      "      \"v\": 99100,\n",
      "      \"vw\": 185.5154,\n",
      "      \"o\": 185.43,\n",
      "      \"c\": 185.57,\n",
      "      \"h\": 185.64,\n",
      "      \"l\": 185.3,\n",
      "      \"t\": 1704232800000,\n",
      "      \"n\": 2585\n",
      "    },\n",
      "    {\n",
      "      \"v\": 67003,\n",
      "      \"vw\": 185.4201,\n",
      "      \"o\": 185.58,\n",
      "      \"c\": 185.3081,\n",
      "      \"h\": 185.6,\n",
      "      \"l\": 185.22,\n",
      "      \"t\": 1704236400000,\n",
      "      \"n\": 1645\n",
      "    },\n",
      "    {\n",
      "      \"v\": 53755,\n",
      "      \"vw\": 185.2375,\n",
      "      \"o\": 185.31,\n",
      "      \"c\": 185.2,\n",
      "      \"h\": 185.31,\n",
      "      \"l\": 185.15,\n",
      "      \"t\": 1704240000000,\n",
      "      \"n\": 1579\n",
      "    }\n",
      "  ],\n",
      "  \"status\": \"OK\",\n",
      "  \"request_id\": \"a056f8dbd7eca103f6a1b652f5e4bd66\",\n",
      "  \"count\": 16\n",
      "}\n"
     ]
    }
   ],
   "source": [
    "import requests\n",
    "import json\n",
    "import os\n",
    "import enum\n",
    "import datetime\n",
    "class AggType(enum.Enum):\n",
    "    day = 'day'\n",
    "    week = 'week'\n",
    "    month = 'month'\n",
    "    quarter = 'quarter'\n",
    "    year = 'year'\n",
    "    hour = 'hour'\n",
    "    minute = 'minute'\n",
    "\n",
    "ticker = 'AAPL'\n",
    "type =  AggType.hour.value\n",
    "multiplier = 1\n",
    "from_date = datetime.date(2024, 1, 1)\n",
    "to_date = datetime.date(2024, 1, 2)\n",
    "url = f'https://api.polygon.io/v2/aggs/ticker/{ticker}/range/{multiplier}/{type}/{from_date}/{to_date}'\n",
    "params = {\n",
    "        \"apiKey\": os.environ['POLYGON_API_KEY'],\n",
    "        \"adjusted\": \"true\",\n",
    "        \"sort\": \"asc\"\n",
    "}\n",
    "r = requests.get(url, params=params)\n",
    "data = r.json()\n",
    "\n",
    "print(json.dumps(data, indent=2))\n"
   ]
  },
  {
   "cell_type": "code",
   "execution_count": 6,
   "metadata": {},
   "outputs": [
    {
     "data": {
      "text/plain": [
       "'https://api.polygon.io/v2/aggs/ticker/AAPL/range/1/minute/2023-01-09/2023-02-10?api_key=J9VFvuEFRQ0CoJ06AHDP4zoXEbsyHVVX&adjusted=true&sort=asc'"
      ]
     },
     "execution_count": 6,
     "metadata": {},
     "output_type": "execute_result"
    }
   ],
   "source": [
    "r.request.url"
   ]
  },
  {
   "cell_type": "code",
   "execution_count": 15,
   "metadata": {},
   "outputs": [
    {
     "data": {
      "text/plain": [
       "100"
      ]
     },
     "execution_count": 15,
     "metadata": {},
     "output_type": "execute_result"
    }
   ],
   "source": [
    "len(data['Time Series (5min)'])"
   ]
  },
  {
   "cell_type": "code",
   "execution_count": 10,
   "metadata": {},
   "outputs": [
    {
     "data": {
      "text/plain": [
       "'FGXR05DGQZBZ2IIT'"
      ]
     },
     "execution_count": 10,
     "metadata": {},
     "output_type": "execute_result"
    }
   ],
   "source": [
    "import os\n",
    "os.environ['ALPHA_VANTAGE_API_KEY'] = \"FGXR05DGQZBZ2IIT\"\n",
    "os.environ['ALPHA_VANTAGE_API_KEY']"
   ]
  },
  {
   "cell_type": "code",
   "execution_count": 2,
   "metadata": {},
   "outputs": [],
   "source": [
    "os.environ['POLYGON_API_KEY'] = \"J9VFvuEFRQ0CoJ06AHDP4zoXEbsyHVVX\""
   ]
  },
  {
   "cell_type": "code",
   "execution_count": 56,
   "metadata": {},
   "outputs": [],
   "source": [
    "from influxdb_client import InfluxDBClient\n",
    "from influxdb_client.client.write_api import SYNCHRONOUS, ASYNCHRONOUS\n",
    "org_name = \"MyOrg\"\n",
    "stock_bucket = \"stocks\"\n",
    "with InfluxDBClient(url=\"http://127.0.0.1:8086\", token='MyInitialAdminToken0==',ssl=False, verify_ssl=False) as client:\n",
    "    org_api = client.organizations_api()\n",
    "    orgs = org_api.find_organizations()\n",
    "    org_id = ([x for x in orgs if x.name==org_name][0].id)"
   ]
  },
  {
   "cell_type": "code",
   "execution_count": 57,
   "metadata": {},
   "outputs": [],
   "source": [
    "\n",
    "with InfluxDBClient(url=\"http://127.0.0.1:8086\", token='MyInitialAdminToken0==',ssl=False, verify_ssl=False) as client:\n",
    "    bucket_api = client.buckets_api()\n",
    "    data = {\n",
    "    \"org_id\": org_id,\n",
    "    \"bucket_name\": stock_bucket,\n",
    "    \"retention_rules\": [\n",
    "      {\n",
    "        \"type\": \"never\",\n",
    "      }\n",
    "    ]\n",
    "  }\n",
    "    bucket_api.create_bucket( **data)"
   ]
  },
  {
   "cell_type": "code",
   "execution_count": null,
   "metadata": {},
   "outputs": [],
   "source": [
    "with InfluxDBClient(url=\"http://127.0.0.1:8086\", token='MyInitialAdminToken0==',ssl=False, verify_ssl=False) as client:\n",
    "    write_api = client.write_api(write_options=SYNCHRONOUS)\n",
    "    write_api.write(\n",
    "        bucket=stock_bucket,\n",
    "        org=org_name,\n",
    "        data=\n",
    "        [\n",
    "            {\n",
    "                \"measurement\": \"stock_bar\",\n",
    "                \"tags\": {\"ticker\": \"AAPL\"},\n",
    "                \"fields\": {\"h\": 1, \"l\":0, \"c\": 0.5},\n",
    "                \"time\": 1,\n",
    "            }\n",
    "        ],\n",
    "    )"
   ]
  },
  {
   "cell_type": "code",
   "execution_count": 60,
   "metadata": {},
   "outputs": [
    {
     "name": "stdout",
     "output_type": "stream",
     "text": [
      "stocks bbc6165be0779323\n"
     ]
    }
   ],
   "source": [
    "# get bucket\n",
    "with InfluxDBClient(url=\"http://127.0.0.1:8086\", token='MyInitialAdminToken0==',ssl=False, verify_ssl=False) as client:\n",
    "    bucket_api = client.buckets_api()\n",
    "    bucket = bucket_api.find_bucket_by_name(stock_bucket)\n",
    "    print(bucket.name, bucket.id)"
   ]
  },
  {
   "cell_type": "code",
   "execution_count": 91,
   "metadata": {},
   "outputs": [],
   "source": [
    "import psycopg\n",
    "import psycopg.sql as sql\n",
    "user = \"postgres\"\n",
    "password = \"postgres\"\n",
    "db = \"postgres\"\n",
    "hostname = \"localhost\"\n",
    "port = 5432\n",
    "url = f\"postgresql://{user}:{password}@{hostname}:{port}\"\n",
    "with psycopg.connect(url, autocommit=True) as conn:\n",
    "    with conn.cursor() as cursor:\n",
    "        cursor.execute(sql.SQL(\"CREATE DATABASE testing;\"))\n"
   ]
  },
  {
   "cell_type": "code",
   "execution_count": 71,
   "metadata": {},
   "outputs": [],
   "source": [
    "connection.close()"
   ]
  },
  {
   "cell_type": "code",
   "execution_count": 79,
   "metadata": {},
   "outputs": [
    {
     "data": {
      "text/plain": [
       "'2.9.9 (dt dec pq3 ext lo64)'"
      ]
     },
     "execution_count": 79,
     "metadata": {},
     "output_type": "execute_result"
    }
   ],
   "source": [
    "psycopg2.__version__\n"
   ]
  },
  {
   "cell_type": "code",
   "execution_count": null,
   "metadata": {},
   "outputs": [],
   "source": []
  }
 ],
 "metadata": {
  "kernelspec": {
   "display_name": ".venv",
   "language": "python",
   "name": "python3"
  },
  "language_info": {
   "codemirror_mode": {
    "name": "ipython",
    "version": 3
   },
   "file_extension": ".py",
   "mimetype": "text/x-python",
   "name": "python",
   "nbconvert_exporter": "python",
   "pygments_lexer": "ipython3",
   "version": "3.12.3"
  }
 },
 "nbformat": 4,
 "nbformat_minor": 2
}
